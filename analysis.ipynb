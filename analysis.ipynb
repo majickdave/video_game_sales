{
 "cells": [
  {
   "cell_type": "code",
   "execution_count": 2,
   "id": "ad85d0e5-af6f-4e52-9238-62069d6a8b97",
   "metadata": {},
   "outputs": [],
   "source": [
    "import pandas as pd"
   ]
  },
  {
   "cell_type": "code",
   "execution_count": 3,
   "id": "9271d0e3-9974-4318-bc74-4f89e86baa52",
   "metadata": {},
   "outputs": [],
   "source": [
    "path = \"../data/vgsales.csv\""
   ]
  },
  {
   "cell_type": "code",
   "execution_count": null,
   "id": "5d37701e-bd34-4155-89ff-419d3227df6b",
   "metadata": {},
   "outputs": [],
   "source": []
  }
 ],
 "metadata": {
  "kernelspec": {
   "display_name": "Python 3 (ipykernel)",
   "language": "python",
   "name": "python3"
  },
  "language_info": {
   "codemirror_mode": {
    "name": "ipython",
    "version": 3
   },
   "file_extension": ".py",
   "mimetype": "text/x-python",
   "name": "python",
   "nbconvert_exporter": "python",
   "pygments_lexer": "ipython3",
   "version": "3.9.13"
  },
  "widgets": {
   "application/vnd.jupyter.widget-state+json": {
    "state": {},
    "version_major": 2,
    "version_minor": 0
   }
  }
 },
 "nbformat": 4,
 "nbformat_minor": 5
}
